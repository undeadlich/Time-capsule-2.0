{
 "cells": [
  {
   "cell_type": "code",
   "execution_count": 5,
   "metadata": {},
   "outputs": [
    {
     "name": "stdout",
     "output_type": "stream",
     "text": [
      "NSFW Probability: 0.9993\n",
      "Classification: NSFW\n"
     ]
    }
   ],
   "source": [
    "import opennsfw2 as n2\n",
    "from PIL import Image  # Optional for direct image handling\n",
    "\n",
    "# Configuration\n",
    "IMAGE_PATH = \"nude.jpeg\"\n",
    "NSFW_THRESHOLD = 0.85  # Typical threshold (adjust based on your needs)\n",
    "\n",
    "try:\n",
    "    # Get NSFW probability (works with file paths or PIL images)\n",
    "    nsfw_prob = n2.predict_image(IMAGE_PATH)\n",
    "    \n",
    "    # Classification decision\n",
    "    is_nsfw = nsfw_prob >= NSFW_THRESHOLD\n",
    "    \n",
    "    print(f\"NSFW Probability: {nsfw_prob:.4f}\")\n",
    "    print(f\"Classification: {'NSFW' if is_nsfw else 'SFW'}\")\n",
    "\n",
    "except Exception as e:\n",
    "    print(f\"Error processing image: {str(e)}\")"
   ]
  },
  {
   "cell_type": "code",
   "execution_count": null,
   "metadata": {},
   "outputs": [
    {
     "name": "stderr",
     "output_type": "stream",
     "text": [
      "  0%|          | 0/3561 [00:00<?, ?it/s]"
     ]
    },
    {
     "name": "stderr",
     "output_type": "stream",
     "text": [
      "100%|██████████| 3561/3561 [00:22<00:00, 159.03it/s]"
     ]
    },
    {
     "name": "stdout",
     "output_type": "stream",
     "text": [
      "Maximum NSFW Probability: 1.00\n",
      "Classification: NSFW\n",
      "Frames above 0.5 threshold: 100.0%\n"
     ]
    },
    {
     "name": "stderr",
     "output_type": "stream",
     "text": [
      "\n"
     ]
    }
   ],
   "source": [
    "# import opennsfw2 as n2\n",
    "\n",
    "# # Configuration\n",
    "# VIDEO_PATH = \"nsfwVid.mp4\"\n",
    "# NSFW_THRESHOLD = 0.85  # Typical threshold (adjust based on your requirements)\n",
    "\n",
    "# # Analyze video frames\n",
    "# _, nsfw_probabilities = n2.predict_video_frames(VIDEO_PATH)\n",
    "\n",
    "# # Classification logic\n",
    "# max_probability = max(nsfw_probabilities)\n",
    "# is_nsfw = max_probability >= NSFW_THRESHOLD\n",
    "\n",
    "# print(f\"Maximum NSFW Probability: {max_probability:.2f}\")\n",
    "# print(f\"Classification: {'NSFW' if is_nsfw else 'SFW'}\")\n",
    "\n",
    "# # Optional: Show percentage of concerning frames\n",
    "# warning_frames = sum(p > 0.5 for p in nsfw_probabilities)\n",
    "# warning_percentage = warning_frames / len(nsfw_probabilities) * 100\n",
    "# print(f\"Frames above 0.5 threshold: {warning_percentage:.1f}%\")"
   ]
  }
 ],
 "metadata": {
  "kernelspec": {
   "display_name": "Python 3",
   "language": "python",
   "name": "python3"
  },
  "language_info": {
   "codemirror_mode": {
    "name": "ipython",
    "version": 3
   },
   "file_extension": ".py",
   "mimetype": "text/x-python",
   "name": "python",
   "nbconvert_exporter": "python",
   "pygments_lexer": "ipython3",
   "version": "3.10.1"
  }
 },
 "nbformat": 4,
 "nbformat_minor": 2
}
